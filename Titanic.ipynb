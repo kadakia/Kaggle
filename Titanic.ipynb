{
 "cells": [
  {
   "cell_type": "code",
   "execution_count": 1,
   "metadata": {
    "collapsed": true
   },
   "outputs": [],
   "source": [
    "import pandas as pd\n",
    "test = pd.read_csv('test.csv')\n",
    "train = pd.read_csv('train.csv')"
   ]
  },
  {
   "cell_type": "code",
   "execution_count": 2,
   "metadata": {},
   "outputs": [
    {
     "name": "stdout",
     "output_type": "stream",
     "text": [
      "(418, 11)\n",
      "   PassengerId  Pclass                                          Name     Sex  \\\n",
      "0          892       3                              Kelly, Mr. James    male   \n",
      "1          893       3              Wilkes, Mrs. James (Ellen Needs)  female   \n",
      "2          894       2                     Myles, Mr. Thomas Francis    male   \n",
      "3          895       3                              Wirz, Mr. Albert    male   \n",
      "4          896       3  Hirvonen, Mrs. Alexander (Helga E Lindqvist)  female   \n",
      "\n",
      "    Age  SibSp  Parch   Ticket     Fare Cabin Embarked  \n",
      "0  34.5      0      0   330911   7.8292   NaN        Q  \n",
      "1  47.0      1      0   363272   7.0000   NaN        S  \n",
      "2  62.0      0      0   240276   9.6875   NaN        Q  \n",
      "3  27.0      0      0   315154   8.6625   NaN        S  \n",
      "4  22.0      1      1  3101298  12.2875   NaN        S  \n",
      "Index(['PassengerId', 'Pclass', 'Name', 'Sex', 'Age', 'SibSp', 'Parch',\n",
      "       'Ticket', 'Fare', 'Cabin', 'Embarked'],\n",
      "      dtype='object')\n"
     ]
    }
   ],
   "source": [
    "print(test.shape)\n",
    "print(test.head())\n",
    "print(test.columns)"
   ]
  },
  {
   "cell_type": "code",
   "execution_count": 3,
   "metadata": {},
   "outputs": [
    {
     "name": "stdout",
     "output_type": "stream",
     "text": [
      "(891, 12)\n",
      "   PassengerId  Survived  Pclass  \\\n",
      "0            1         0       3   \n",
      "1            2         1       1   \n",
      "2            3         1       3   \n",
      "3            4         1       1   \n",
      "4            5         0       3   \n",
      "\n",
      "                                                Name     Sex   Age  SibSp  \\\n",
      "0                            Braund, Mr. Owen Harris    male  22.0      1   \n",
      "1  Cumings, Mrs. John Bradley (Florence Briggs Th...  female  38.0      1   \n",
      "2                             Heikkinen, Miss. Laina  female  26.0      0   \n",
      "3       Futrelle, Mrs. Jacques Heath (Lily May Peel)  female  35.0      1   \n",
      "4                           Allen, Mr. William Henry    male  35.0      0   \n",
      "\n",
      "   Parch            Ticket     Fare Cabin Embarked  \n",
      "0      0         A/5 21171   7.2500   NaN        S  \n",
      "1      0          PC 17599  71.2833   C85        C  \n",
      "2      0  STON/O2. 3101282   7.9250   NaN        S  \n",
      "3      0            113803  53.1000  C123        S  \n",
      "4      0            373450   8.0500   NaN        S  \n",
      "Index(['PassengerId', 'Survived', 'Pclass', 'Name', 'Sex', 'Age', 'SibSp',\n",
      "       'Parch', 'Ticket', 'Fare', 'Cabin', 'Embarked'],\n",
      "      dtype='object')\n"
     ]
    }
   ],
   "source": [
    "print(train.shape)\n",
    "print(train.head())\n",
    "print(train.columns)"
   ]
  },
  {
   "cell_type": "markdown",
   "metadata": {},
   "source": [
    "# Predicting survival by manual slicing"
   ]
  },
  {
   "cell_type": "code",
   "execution_count": 4,
   "metadata": {},
   "outputs": [
    {
     "name": "stdout",
     "output_type": "stream",
     "text": [
      "0    468\n",
      "1    109\n",
      "Name: Survived, dtype: int64\n",
      "1    233\n",
      "0     81\n",
      "Name: Survived, dtype: int64\n"
     ]
    }
   ],
   "source": [
    "# Males who survived vs males who did not\n",
    "print(train['Survived'][train['Sex'] == 'male'].value_counts())\n",
    "\n",
    "# Females who survived vs females who did not\n",
    "print(train['Survived'][train['Sex'] == 'female'].value_counts())"
   ]
  },
  {
   "cell_type": "code",
   "execution_count": 31,
   "metadata": {},
   "outputs": [],
   "source": [
    "pd.options.mode.chained_assignment = None\n",
    "\n",
    "# Engineer 'Child' feature in copy of training set\n",
    "# train['Child'] = 0\n",
    "train['Child'][train['Age'] < 18] = 1\n",
    "train['Child'][train['Age'] >= 18] = 0"
   ]
  },
  {
   "cell_type": "code",
   "execution_count": 30,
   "metadata": {},
   "outputs": [
    {
     "name": "stdout",
     "output_type": "stream",
     "text": [
      "1    61\n",
      "0    52\n",
      "Name: Survived, dtype: int64\n",
      "0    497\n",
      "1    281\n",
      "Name: Survived, dtype: int64\n"
     ]
    }
   ],
   "source": [
    "# Children who survived vs children who did not\n",
    "print(train['Survived'][train['Child'] == 1].value_counts())\n",
    "\n",
    "# Adults who survived vs adults who did not\n",
    "print(train['Survived'][train['Child'] == 0].value_counts())"
   ]
  },
  {
   "cell_type": "code",
   "execution_count": 15,
   "metadata": {},
   "outputs": [
    {
     "name": "stdout",
     "output_type": "stream",
     "text": [
      "<class 'pandas.core.frame.DataFrame'>\n",
      "RangeIndex: 891 entries, 0 to 890\n",
      "Data columns (total 12 columns):\n",
      "PassengerId    891 non-null int64\n",
      "Survived       891 non-null int64\n",
      "Pclass         891 non-null int64\n",
      "Name           891 non-null object\n",
      "Sex            891 non-null object\n",
      "Age            714 non-null float64\n",
      "SibSp          891 non-null int64\n",
      "Parch          891 non-null int64\n",
      "Ticket         891 non-null object\n",
      "Fare           891 non-null float64\n",
      "Cabin          204 non-null object\n",
      "Embarked       889 non-null object\n",
      "dtypes: float64(2), int64(5), object(5)\n",
      "memory usage: 66.2+ KB\n",
      "None\n",
      "Index(['PassengerId', 'Survived', 'Pclass', 'Name', 'Sex', 'Age', 'SibSp',\n",
      "       'Parch', 'Ticket', 'Fare', 'Cabin', 'Embarked'],\n",
      "      dtype='object')\n"
     ]
    }
   ],
   "source": [
    "print(train.info())\n",
    "print(train.columns)"
   ]
  },
  {
   "cell_type": "code",
   "execution_count": 16,
   "metadata": {},
   "outputs": [
    {
     "name": "stdout",
     "output_type": "stream",
     "text": [
      "<class 'pandas.core.frame.DataFrame'>\n",
      "RangeIndex: 418 entries, 0 to 417\n",
      "Data columns (total 11 columns):\n",
      "PassengerId    418 non-null int64\n",
      "Pclass         418 non-null int64\n",
      "Name           418 non-null object\n",
      "Sex            418 non-null object\n",
      "Age            332 non-null float64\n",
      "SibSp          418 non-null int64\n",
      "Parch          418 non-null int64\n",
      "Ticket         418 non-null object\n",
      "Fare           417 non-null float64\n",
      "Cabin          91 non-null object\n",
      "Embarked       418 non-null object\n",
      "dtypes: float64(2), int64(4), object(5)\n",
      "memory usage: 27.8+ KB\n",
      "None\n"
     ]
    }
   ],
   "source": [
    "print(test.info())"
   ]
  },
  {
   "cell_type": "code",
   "execution_count": 17,
   "metadata": {},
   "outputs": [
    {
     "name": "stdout",
     "output_type": "stream",
     "text": [
      "1    136\n",
      "0     80\n",
      "Name: Survived, dtype: int64\n",
      "0    97\n",
      "1    87\n",
      "Name: Survived, dtype: int64\n",
      "0    372\n",
      "1    119\n",
      "Name: Survived, dtype: int64\n"
     ]
    }
   ],
   "source": [
    "# 1st class who survived vs 1st class who did not\n",
    "print(train['Survived'][train['Pclass'] == 1].value_counts())\n",
    "\n",
    "# 2nd class who survived vs 2nd class who did not\n",
    "print(train['Survived'][train['Pclass'] == 2].value_counts())\n",
    "\n",
    "# 3rd class who survived vs 3rd class who did not\n",
    "print(train['Survived'][train['Pclass'] == 3].value_counts())"
   ]
  },
  {
   "cell_type": "code",
   "execution_count": 18,
   "metadata": {},
   "outputs": [
    {
     "name": "stdout",
     "output_type": "stream",
     "text": [
      "28.0\n",
      "<class 'pandas.core.frame.DataFrame'>\n",
      "RangeIndex: 891 entries, 0 to 890\n",
      "Data columns (total 12 columns):\n",
      "PassengerId    891 non-null int64\n",
      "Survived       891 non-null int64\n",
      "Pclass         891 non-null int64\n",
      "Name           891 non-null object\n",
      "Sex            891 non-null object\n",
      "Age            891 non-null float64\n",
      "SibSp          891 non-null int64\n",
      "Parch          891 non-null int64\n",
      "Ticket         891 non-null object\n",
      "Fare           891 non-null float64\n",
      "Cabin          204 non-null object\n",
      "Embarked       889 non-null object\n",
      "dtypes: float64(2), int64(5), object(5)\n",
      "memory usage: 66.2+ KB\n",
      "None\n"
     ]
    }
   ],
   "source": [
    "train['Age'] = train['Age'].fillna(train['Age'].median())\n",
    "\n",
    "print(train['Age'].median())\n",
    "\n",
    "print(train.info())"
   ]
  },
  {
   "cell_type": "code",
   "execution_count": 19,
   "metadata": {},
   "outputs": [
    {
     "name": "stdout",
     "output_type": "stream",
     "text": [
      "1    7\n",
      "0    1\n",
      "Name: Survived, dtype: int64\n",
      "1    4\n",
      "Name: Survived, dtype: int64\n",
      "1    84\n",
      "0     2\n",
      "Name: Survived, dtype: int64\n",
      "0    77\n",
      "1    41\n",
      "Name: Survived, dtype: int64\n",
      "1    12\n",
      "Name: Survived, dtype: int64\n",
      "1    9\n",
      "0    2\n",
      "Name: Survived, dtype: int64\n",
      "1    58\n",
      "0     6\n",
      "Name: Survived, dtype: int64\n",
      "0    89\n",
      "1     8\n",
      "Name: Survived, dtype: int64\n",
      "1    19\n",
      "0    16\n",
      "Name: Survived, dtype: int64\n",
      "0    33\n",
      "1    10\n",
      "Name: Survived, dtype: int64\n",
      "0    56\n",
      "1    53\n",
      "Name: Survived, dtype: int64\n",
      "0    267\n",
      "1     37\n",
      "Name: Survived, dtype: int64\n"
     ]
    }
   ],
   "source": [
    "print(train['Survived'][train['Sex'] == 'female'][train['Pclass'] == 1][train['Age'] < 18].value_counts())\n",
    "\n",
    "print(train['Survived'][train['Sex'] == 'male'][train['Pclass'] == 1][train['Age'] < 18].value_counts())\n",
    "\n",
    "print(train['Survived'][train['Sex'] == 'female'][train['Pclass'] == 1][train['Age'] >= 18].value_counts())\n",
    "\n",
    "print(train['Survived'][train['Sex'] == 'male'][train['Pclass'] == 1][train['Age'] >= 18].value_counts())\n",
    "\n",
    "print(train['Survived'][train['Sex'] == 'female'][train['Pclass'] == 2][train['Age'] < 18].value_counts())\n",
    "\n",
    "print(train['Survived'][train['Sex'] == 'male'][train['Pclass'] == 2][train['Age'] < 18].value_counts())\n",
    "\n",
    "print(train['Survived'][train['Sex'] == 'female'][train['Pclass'] == 2][train['Age'] >= 18].value_counts())\n",
    "\n",
    "print(train['Survived'][train['Sex'] == 'male'][train['Pclass'] == 2][train['Age'] >= 18].value_counts())\n",
    "\n",
    "print(train['Survived'][train['Sex'] == 'female'][train['Pclass'] == 3][train['Age'] < 18].value_counts())\n",
    "\n",
    "print(train['Survived'][train['Sex'] == 'male'][train['Pclass'] == 3][train['Age'] < 18].value_counts())\n",
    "\n",
    "print(train['Survived'][train['Sex'] == 'female'][train['Pclass'] == 3][train['Age'] >= 18].value_counts())\n",
    "\n",
    "print(train['Survived'][train['Sex'] == 'male'][train['Pclass'] == 3][train['Age'] >= 18].value_counts())"
   ]
  },
  {
   "cell_type": "code",
   "execution_count": 20,
   "metadata": {},
   "outputs": [
    {
     "name": "stdout",
     "output_type": "stream",
     "text": [
      "27.0\n",
      "<class 'pandas.core.frame.DataFrame'>\n",
      "RangeIndex: 418 entries, 0 to 417\n",
      "Data columns (total 11 columns):\n",
      "PassengerId    418 non-null int64\n",
      "Pclass         418 non-null int64\n",
      "Name           418 non-null object\n",
      "Sex            418 non-null object\n",
      "Age            418 non-null float64\n",
      "SibSp          418 non-null int64\n",
      "Parch          418 non-null int64\n",
      "Ticket         418 non-null object\n",
      "Fare           417 non-null float64\n",
      "Cabin          91 non-null object\n",
      "Embarked       418 non-null object\n",
      "dtypes: float64(2), int64(4), object(5)\n",
      "memory usage: 27.8+ KB\n",
      "None\n"
     ]
    }
   ],
   "source": [
    "test['Age'] = test['Age'].fillna(test['Age'].median())\n",
    "\n",
    "print(test['Age'].median())\n",
    "\n",
    "print(test.info())"
   ]
  },
  {
   "cell_type": "code",
   "execution_count": 32,
   "metadata": {},
   "outputs": [],
   "source": [
    "# test['Survived']  = 0\n",
    "\n",
    "test['Survived'][(test['Sex'] == 'female') & (test['Pclass'] == 1) & (test['Age'] < 18)] = 1\n",
    "\n",
    "test['Survived'][(test['Sex'] == 'male') & (test['Pclass'] == 1) & (test['Age'] < 18)] = 1\n",
    "\n",
    "test['Survived'][(test['Sex'] == 'female') & (test['Pclass'] == 1) & (test['Age'] >= 18)] = 1\n",
    "\n",
    "test['Survived'][(test['Sex'] == 'male') & (test['Pclass'] == 1) & (test['Age'] >= 18)] = 0\n",
    "\n",
    "test['Survived'][(test['Sex'] == 'female') & (test['Pclass'] == 2) & (test['Age'] < 18)] = 1\n",
    "\n",
    "test['Survived'][(test['Sex'] == 'male') & (test['Pclass'] == 2) & (test['Age'] < 18)] = 1\n",
    "\n",
    "test['Survived'][(test['Sex'] == 'female') & (test['Pclass'] == 2) & (test['Age'] >= 18)] = 1\n",
    "\n",
    "test['Survived'][(test['Sex'] == 'male') & (test['Pclass'] == 2) & (test['Age'] >= 18)] = 0\n",
    "\n",
    "test['Survived'][(test['Sex'] == 'female') & (test['Pclass'] == 3) & (test['Age'] < 18)] = 1\n",
    "\n",
    "test['Survived'][(test['Sex'] == 'male') & (test['Pclass'] == 3) & (test['Age'] < 18)] = 0\n",
    "\n",
    "test['Survived'][(test['Sex'] == 'female') & (test['Pclass'] == 3) & (test['Age'] >= 18)] = 1\n",
    "\n",
    "test['Survived'][(test['Sex'] == 'male') & (test['Pclass'] == 3) & (test['Age'] >= 18)] = 0"
   ]
  },
  {
   "cell_type": "code",
   "execution_count": 28,
   "metadata": {},
   "outputs": [
    {
     "name": "stdout",
     "output_type": "stream",
     "text": [
      "   PassengerId  Survived\n",
      "0          892         0\n",
      "1          893         1\n",
      "2          894         0\n",
      "3          895         0\n",
      "4          896         1\n",
      "     PassengerId  Survived\n",
      "413         1305         0\n",
      "414         1306         1\n",
      "415         1307         0\n",
      "416         1308         0\n",
      "417         1309         0\n",
      "(418, 2)\n",
      "0    284\n",
      "1    134\n",
      "Name: Survived, dtype: int64\n"
     ]
    }
   ],
   "source": [
    "my_solution = test[['PassengerId','Survived']]\n",
    "\n",
    "print(my_solution.head())\n",
    "print(my_solution.tail())\n",
    "print(my_solution.shape)\n",
    "print(my_solution['Survived'].value_counts())"
   ]
  },
  {
   "cell_type": "code",
   "execution_count": 13,
   "metadata": {
    "collapsed": true
   },
   "outputs": [],
   "source": [
    "my_solution.to_csv('my_solution_manual.csv', index = False)"
   ]
  }
 ],
 "metadata": {
  "kernelspec": {
   "display_name": "Python 3",
   "language": "python",
   "name": "python3"
  },
  "language_info": {
   "codemirror_mode": {
    "name": "ipython",
    "version": 3
   },
   "file_extension": ".py",
   "mimetype": "text/x-python",
   "name": "python",
   "nbconvert_exporter": "python",
   "pygments_lexer": "ipython3",
   "version": "3.6.1"
  }
 },
 "nbformat": 4,
 "nbformat_minor": 2
}

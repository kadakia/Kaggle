{
 "cells": [
  {
   "cell_type": "code",
   "execution_count": 1,
   "metadata": {
    "collapsed": true
   },
   "outputs": [],
   "source": [
    "import pandas as pd\n",
    "import numpy as np"
   ]
  },
  {
   "cell_type": "code",
   "execution_count": 2,
   "metadata": {
    "collapsed": true
   },
   "outputs": [],
   "source": [
    "test = pd.read_csv('test_FCT.csv')\n",
    "train = pd.read_csv('train_FCT.csv')"
   ]
  },
  {
   "cell_type": "code",
   "execution_count": 3,
   "metadata": {},
   "outputs": [
    {
     "name": "stdout",
     "output_type": "stream",
     "text": [
      "15120\n",
      "565892\n",
      "Index(['Id', 'Elevation', 'Aspect', 'Slope',\n",
      "       'Horizontal_Distance_To_Hydrology', 'Vertical_Distance_To_Hydrology',\n",
      "       'Horizontal_Distance_To_Roadways', 'Hillshade_9am', 'Hillshade_Noon',\n",
      "       'Hillshade_3pm', 'Horizontal_Distance_To_Fire_Points',\n",
      "       'Wilderness_Area1', 'Wilderness_Area2', 'Wilderness_Area3',\n",
      "       'Wilderness_Area4', 'Soil_Type1', 'Soil_Type2', 'Soil_Type3',\n",
      "       'Soil_Type4', 'Soil_Type5', 'Soil_Type6', 'Soil_Type7', 'Soil_Type8',\n",
      "       'Soil_Type9', 'Soil_Type10', 'Soil_Type11', 'Soil_Type12',\n",
      "       'Soil_Type13', 'Soil_Type14', 'Soil_Type15', 'Soil_Type16',\n",
      "       'Soil_Type17', 'Soil_Type18', 'Soil_Type19', 'Soil_Type20',\n",
      "       'Soil_Type21', 'Soil_Type22', 'Soil_Type23', 'Soil_Type24',\n",
      "       'Soil_Type25', 'Soil_Type26', 'Soil_Type27', 'Soil_Type28',\n",
      "       'Soil_Type29', 'Soil_Type30', 'Soil_Type31', 'Soil_Type32',\n",
      "       'Soil_Type33', 'Soil_Type34', 'Soil_Type35', 'Soil_Type36',\n",
      "       'Soil_Type37', 'Soil_Type38', 'Soil_Type39', 'Soil_Type40',\n",
      "       'Cover_Type'],\n",
      "      dtype='object')\n",
      "Index(['Id', 'Elevation', 'Aspect', 'Slope',\n",
      "       'Horizontal_Distance_To_Hydrology', 'Vertical_Distance_To_Hydrology',\n",
      "       'Horizontal_Distance_To_Roadways', 'Hillshade_9am', 'Hillshade_Noon',\n",
      "       'Hillshade_3pm', 'Horizontal_Distance_To_Fire_Points',\n",
      "       'Wilderness_Area1', 'Wilderness_Area2', 'Wilderness_Area3',\n",
      "       'Wilderness_Area4', 'Soil_Type1', 'Soil_Type2', 'Soil_Type3',\n",
      "       'Soil_Type4', 'Soil_Type5', 'Soil_Type6', 'Soil_Type7', 'Soil_Type8',\n",
      "       'Soil_Type9', 'Soil_Type10', 'Soil_Type11', 'Soil_Type12',\n",
      "       'Soil_Type13', 'Soil_Type14', 'Soil_Type15', 'Soil_Type16',\n",
      "       'Soil_Type17', 'Soil_Type18', 'Soil_Type19', 'Soil_Type20',\n",
      "       'Soil_Type21', 'Soil_Type22', 'Soil_Type23', 'Soil_Type24',\n",
      "       'Soil_Type25', 'Soil_Type26', 'Soil_Type27', 'Soil_Type28',\n",
      "       'Soil_Type29', 'Soil_Type30', 'Soil_Type31', 'Soil_Type32',\n",
      "       'Soil_Type33', 'Soil_Type34', 'Soil_Type35', 'Soil_Type36',\n",
      "       'Soil_Type37', 'Soil_Type38', 'Soil_Type39', 'Soil_Type40'],\n",
      "      dtype='object')\n"
     ]
    }
   ],
   "source": [
    "print(len(train))\n",
    "print(len(test))\n",
    "print(train.columns)\n",
    "print(test.columns)"
   ]
  },
  {
   "cell_type": "code",
   "execution_count": 4,
   "metadata": {},
   "outputs": [
    {
     "name": "stdout",
     "output_type": "stream",
     "text": [
      "<class 'pandas.core.frame.DataFrame'>\n",
      "RangeIndex: 15120 entries, 0 to 15119\n",
      "Data columns (total 56 columns):\n",
      "Id                                    15120 non-null int64\n",
      "Elevation                             15120 non-null int64\n",
      "Aspect                                15120 non-null int64\n",
      "Slope                                 15120 non-null int64\n",
      "Horizontal_Distance_To_Hydrology      15120 non-null int64\n",
      "Vertical_Distance_To_Hydrology        15120 non-null int64\n",
      "Horizontal_Distance_To_Roadways       15120 non-null int64\n",
      "Hillshade_9am                         15120 non-null int64\n",
      "Hillshade_Noon                        15120 non-null int64\n",
      "Hillshade_3pm                         15120 non-null int64\n",
      "Horizontal_Distance_To_Fire_Points    15120 non-null int64\n",
      "Wilderness_Area1                      15120 non-null int64\n",
      "Wilderness_Area2                      15120 non-null int64\n",
      "Wilderness_Area3                      15120 non-null int64\n",
      "Wilderness_Area4                      15120 non-null int64\n",
      "Soil_Type1                            15120 non-null int64\n",
      "Soil_Type2                            15120 non-null int64\n",
      "Soil_Type3                            15120 non-null int64\n",
      "Soil_Type4                            15120 non-null int64\n",
      "Soil_Type5                            15120 non-null int64\n",
      "Soil_Type6                            15120 non-null int64\n",
      "Soil_Type7                            15120 non-null int64\n",
      "Soil_Type8                            15120 non-null int64\n",
      "Soil_Type9                            15120 non-null int64\n",
      "Soil_Type10                           15120 non-null int64\n",
      "Soil_Type11                           15120 non-null int64\n",
      "Soil_Type12                           15120 non-null int64\n",
      "Soil_Type13                           15120 non-null int64\n",
      "Soil_Type14                           15120 non-null int64\n",
      "Soil_Type15                           15120 non-null int64\n",
      "Soil_Type16                           15120 non-null int64\n",
      "Soil_Type17                           15120 non-null int64\n",
      "Soil_Type18                           15120 non-null int64\n",
      "Soil_Type19                           15120 non-null int64\n",
      "Soil_Type20                           15120 non-null int64\n",
      "Soil_Type21                           15120 non-null int64\n",
      "Soil_Type22                           15120 non-null int64\n",
      "Soil_Type23                           15120 non-null int64\n",
      "Soil_Type24                           15120 non-null int64\n",
      "Soil_Type25                           15120 non-null int64\n",
      "Soil_Type26                           15120 non-null int64\n",
      "Soil_Type27                           15120 non-null int64\n",
      "Soil_Type28                           15120 non-null int64\n",
      "Soil_Type29                           15120 non-null int64\n",
      "Soil_Type30                           15120 non-null int64\n",
      "Soil_Type31                           15120 non-null int64\n",
      "Soil_Type32                           15120 non-null int64\n",
      "Soil_Type33                           15120 non-null int64\n",
      "Soil_Type34                           15120 non-null int64\n",
      "Soil_Type35                           15120 non-null int64\n",
      "Soil_Type36                           15120 non-null int64\n",
      "Soil_Type37                           15120 non-null int64\n",
      "Soil_Type38                           15120 non-null int64\n",
      "Soil_Type39                           15120 non-null int64\n",
      "Soil_Type40                           15120 non-null int64\n",
      "Cover_Type                            15120 non-null int64\n",
      "dtypes: int64(56)\n",
      "memory usage: 6.5 MB\n",
      "None\n",
      "   Id  Elevation  Aspect  Slope  Horizontal_Distance_To_Hydrology  \\\n",
      "0   1       2596      51      3                               258   \n",
      "1   2       2590      56      2                               212   \n",
      "2   3       2804     139      9                               268   \n",
      "3   4       2785     155     18                               242   \n",
      "4   5       2595      45      2                               153   \n",
      "\n",
      "   Vertical_Distance_To_Hydrology  Horizontal_Distance_To_Roadways  \\\n",
      "0                               0                              510   \n",
      "1                              -6                              390   \n",
      "2                              65                             3180   \n",
      "3                             118                             3090   \n",
      "4                              -1                              391   \n",
      "\n",
      "   Hillshade_9am  Hillshade_Noon  Hillshade_3pm     ...      Soil_Type32  \\\n",
      "0            221             232            148     ...                0   \n",
      "1            220             235            151     ...                0   \n",
      "2            234             238            135     ...                0   \n",
      "3            238             238            122     ...                0   \n",
      "4            220             234            150     ...                0   \n",
      "\n",
      "   Soil_Type33  Soil_Type34  Soil_Type35  Soil_Type36  Soil_Type37  \\\n",
      "0            0            0            0            0            0   \n",
      "1            0            0            0            0            0   \n",
      "2            0            0            0            0            0   \n",
      "3            0            0            0            0            0   \n",
      "4            0            0            0            0            0   \n",
      "\n",
      "   Soil_Type38  Soil_Type39  Soil_Type40  Cover_Type  \n",
      "0            0            0            0           5  \n",
      "1            0            0            0           5  \n",
      "2            0            0            0           2  \n",
      "3            0            0            0           2  \n",
      "4            0            0            0           5  \n",
      "\n",
      "[5 rows x 56 columns]\n"
     ]
    }
   ],
   "source": [
    "print(train.info())\n",
    "print(train.head())"
   ]
  },
  {
   "cell_type": "code",
   "execution_count": 6,
   "metadata": {},
   "outputs": [
    {
     "name": "stdout",
     "output_type": "stream",
     "text": [
      "<class 'pandas.core.frame.DataFrame'>\n",
      "RangeIndex: 565892 entries, 0 to 565891\n",
      "Data columns (total 55 columns):\n",
      "Id                                    565892 non-null int64\n",
      "Elevation                             565892 non-null int64\n",
      "Aspect                                565892 non-null int64\n",
      "Slope                                 565892 non-null int64\n",
      "Horizontal_Distance_To_Hydrology      565892 non-null int64\n",
      "Vertical_Distance_To_Hydrology        565892 non-null int64\n",
      "Horizontal_Distance_To_Roadways       565892 non-null int64\n",
      "Hillshade_9am                         565892 non-null int64\n",
      "Hillshade_Noon                        565892 non-null int64\n",
      "Hillshade_3pm                         565892 non-null int64\n",
      "Horizontal_Distance_To_Fire_Points    565892 non-null int64\n",
      "Wilderness_Area1                      565892 non-null int64\n",
      "Wilderness_Area2                      565892 non-null int64\n",
      "Wilderness_Area3                      565892 non-null int64\n",
      "Wilderness_Area4                      565892 non-null int64\n",
      "Soil_Type1                            565892 non-null int64\n",
      "Soil_Type2                            565892 non-null int64\n",
      "Soil_Type3                            565892 non-null int64\n",
      "Soil_Type4                            565892 non-null int64\n",
      "Soil_Type5                            565892 non-null int64\n",
      "Soil_Type6                            565892 non-null int64\n",
      "Soil_Type7                            565892 non-null int64\n",
      "Soil_Type8                            565892 non-null int64\n",
      "Soil_Type9                            565892 non-null int64\n",
      "Soil_Type10                           565892 non-null int64\n",
      "Soil_Type11                           565892 non-null int64\n",
      "Soil_Type12                           565892 non-null int64\n",
      "Soil_Type13                           565892 non-null int64\n",
      "Soil_Type14                           565892 non-null int64\n",
      "Soil_Type15                           565892 non-null int64\n",
      "Soil_Type16                           565892 non-null int64\n",
      "Soil_Type17                           565892 non-null int64\n",
      "Soil_Type18                           565892 non-null int64\n",
      "Soil_Type19                           565892 non-null int64\n",
      "Soil_Type20                           565892 non-null int64\n",
      "Soil_Type21                           565892 non-null int64\n",
      "Soil_Type22                           565892 non-null int64\n",
      "Soil_Type23                           565892 non-null int64\n",
      "Soil_Type24                           565892 non-null int64\n",
      "Soil_Type25                           565892 non-null int64\n",
      "Soil_Type26                           565892 non-null int64\n",
      "Soil_Type27                           565892 non-null int64\n",
      "Soil_Type28                           565892 non-null int64\n",
      "Soil_Type29                           565892 non-null int64\n",
      "Soil_Type30                           565892 non-null int64\n",
      "Soil_Type31                           565892 non-null int64\n",
      "Soil_Type32                           565892 non-null int64\n",
      "Soil_Type33                           565892 non-null int64\n",
      "Soil_Type34                           565892 non-null int64\n",
      "Soil_Type35                           565892 non-null int64\n",
      "Soil_Type36                           565892 non-null int64\n",
      "Soil_Type37                           565892 non-null int64\n",
      "Soil_Type38                           565892 non-null int64\n",
      "Soil_Type39                           565892 non-null int64\n",
      "Soil_Type40                           565892 non-null int64\n",
      "dtypes: int64(55)\n",
      "memory usage: 237.5 MB\n",
      "None\n"
     ]
    }
   ],
   "source": [
    "print(test.info())"
   ]
  },
  {
   "cell_type": "code",
   "execution_count": 7,
   "metadata": {
    "collapsed": true
   },
   "outputs": [],
   "source": [
    "X_train = train.drop(['Id','Cover_Type'], axis = 1).values\n",
    "y_train = train['Cover_Type'].values"
   ]
  },
  {
   "cell_type": "code",
   "execution_count": 8,
   "metadata": {},
   "outputs": [
    {
     "name": "stdout",
     "output_type": "stream",
     "text": [
      "<class 'numpy.ndarray'>\n",
      "<class 'numpy.ndarray'>\n",
      "(15120, 54)\n",
      "(15120,)\n"
     ]
    }
   ],
   "source": [
    "print(type(X_train))\n",
    "print(type(y_train))\n",
    "print(X_train.shape)\n",
    "print(y_train.shape)"
   ]
  },
  {
   "cell_type": "code",
   "execution_count": 9,
   "metadata": {
    "collapsed": true
   },
   "outputs": [],
   "source": [
    "from sklearn.pipeline import Pipeline\n",
    "from sklearn.neighbors import KNeighborsClassifier\n",
    "from sklearn.model_selection import cross_val_score, GridSearchCV\n",
    "# from sklearn.linear_model import LogisticRegression\n",
    "from sklearn.preprocessing import StandardScaler"
   ]
  },
  {
   "cell_type": "code",
   "execution_count": 36,
   "metadata": {},
   "outputs": [
    {
     "name": "stdout",
     "output_type": "stream",
     "text": [
      "1.0\n",
      "{'knn__n_neighbors': 1}\n"
     ]
    }
   ],
   "source": [
    "steps = [('knn', KNeighborsClassifier())]\n",
    "pipeline = Pipeline(steps)\n",
    "\n",
    "# knn = KNeighborsClassifier(n_neighbors = 5)\n",
    "\n",
    "parameter = {'knn__n_neighbors':np.arange(1,10,2)}\n",
    "grid = GridSearchCV(pipeline, param_grid = parameter)\n",
    "\n",
    "grid.fit(X_train,y_train)\n",
    "\n",
    "# knn.fit(X_train,y_train)\n",
    "# print(knn.score(X_train,y_train))\n",
    "\n",
    "print(grid.score(X_train,y_train))\n",
    "print(grid.best_params_)"
   ]
  },
  {
   "cell_type": "code",
   "execution_count": 17,
   "metadata": {},
   "outputs": [],
   "source": [
    "test_1 = test.iloc[:50000,:]\n",
    "test_2 = test.iloc[50000:100000,:].reset_index(drop=True)\n",
    "test_3 = test.iloc[100000:150000,:].reset_index(drop=True)\n",
    "test_4 = test.iloc[150000:200000,:].reset_index(drop=True)\n",
    "test_5 = test.iloc[200000:250000,:].reset_index(drop=True)\n",
    "test_6 = test.iloc[250000:300000,:].reset_index(drop=True)\n",
    "test_7 = test.iloc[300000:350000,:].reset_index(drop=True)\n",
    "test_8 = test.iloc[350000:400000,:].reset_index(drop=True)\n",
    "test_9 = test.iloc[400000:450000,:].reset_index(drop=True)\n",
    "test_10 = test.iloc[450000:500000,:].reset_index(drop=True)\n",
    "test_11 = test.iloc[500000:550000,:].reset_index(drop=True)\n",
    "test_12 = test.iloc[550000:565893,:].reset_index(drop=True)\n",
    "\n",
    "# for j in range(1,13):\n",
    "test_clean_1 = test_1.drop('Id', axis = 1)\n",
    "X_test_1 = test_clean_1.values\n",
    "    \n",
    "test_clean_2 = test_2.drop('Id', axis = 1)\n",
    "X_test_2 = test_clean_2.values\n",
    "\n",
    "test_clean_3 = test_3.drop('Id', axis = 1)\n",
    "X_test_3 = test_clean_3.values\n",
    "\n",
    "test_clean_4 = test_4.drop('Id', axis = 1)\n",
    "X_test_4 = test_clean_4.values\n",
    "\n",
    "test_clean_5 = test_5.drop('Id', axis = 1)\n",
    "X_test_5 = test_clean_5.values\n",
    "\n",
    "test_clean_6 = test_6.drop('Id', axis = 1)\n",
    "X_test_6 = test_clean_6.values\n",
    "\n",
    "test_clean_7 = test_7.drop('Id', axis = 1)\n",
    "X_test_7 = test_clean_7.values\n",
    "\n",
    "test_clean_8 = test_8.drop('Id', axis = 1)\n",
    "X_test_8 = test_clean_8.values\n",
    "\n",
    "test_clean_9 = test_9.drop('Id', axis = 1)\n",
    "X_test_9 = test_clean_9.values\n",
    "\n",
    "test_clean_10 = test_10.drop('Id', axis = 1)\n",
    "X_test_10 = test_clean_10.values\n",
    "\n",
    "test_clean_11 = test_11.drop('Id', axis = 1)\n",
    "X_test_11 = test_clean_11.values\n",
    "\n",
    "test_clean_12 = test_12.drop('Id', axis = 1)\n",
    "X_test_12 = test_clean_12.values\n",
    "\n",
    "    # print(type(X_test))\n",
    "    # print(X_test.shape)\n",
    "\n",
    "    # test_1['Cover_Type'] = pd.DataFrame(knn.predict(X_test_1))\n",
    "    \n",
    "    # print(test_1.info())\n",
    "    # print(test_1.head())"
   ]
  },
  {
   "cell_type": "code",
   "execution_count": 37,
   "metadata": {},
   "outputs": [],
   "source": [
    "# test_clean = test.drop('Id', axis = 1)\n",
    "# X_test = test_clean.values\n",
    "\n",
    "# test['Cover_Type'] = pd.DataFrame(knn.predict(X_test))"
   ]
  },
  {
   "cell_type": "code",
   "execution_count": 15,
   "metadata": {},
   "outputs": [
    {
     "name": "stdout",
     "output_type": "stream",
     "text": [
      "<class 'pandas.core.frame.DataFrame'>\n",
      "RangeIndex: 50000 entries, 0 to 49999\n",
      "Data columns (total 2 columns):\n",
      "Id            50000 non-null int64\n",
      "Cover_Type    50000 non-null int64\n",
      "dtypes: int64(2)\n",
      "memory usage: 781.3 KB\n",
      "None\n",
      "      Id  Cover_Type\n",
      "0  15121           2\n",
      "1  15122           2\n",
      "2  15123           1\n",
      "3  15124           1\n",
      "4  15125           1\n"
     ]
    },
    {
     "name": "stderr",
     "output_type": "stream",
     "text": [
      "C:\\Users\\Rohan\\Anaconda2\\lib\\site-packages\\ipykernel_launcher.py:1: SettingWithCopyWarning: \n",
      "A value is trying to be set on a copy of a slice from a DataFrame.\n",
      "Try using .loc[row_indexer,col_indexer] = value instead\n",
      "\n",
      "See the caveats in the documentation: http://pandas.pydata.org/pandas-docs/stable/indexing.html#indexing-view-versus-copy\n",
      "  \"\"\"Entry point for launching an IPython kernel.\n"
     ]
    }
   ],
   "source": [
    "test_1['Cover_Type'] = pd.DataFrame(knn.predict(X_test_1))\n",
    "test_1_sol = test_1[['Id','Cover_Type']]\n",
    "print(test_1_sol.info())\n",
    "print(test_1_sol.head())"
   ]
  },
  {
   "cell_type": "code",
   "execution_count": 16,
   "metadata": {},
   "outputs": [
    {
     "name": "stdout",
     "output_type": "stream",
     "text": [
      "<class 'pandas.core.frame.DataFrame'>\n",
      "RangeIndex: 50000 entries, 0 to 49999\n",
      "Data columns (total 2 columns):\n",
      "Id            50000 non-null int64\n",
      "Cover_Type    50000 non-null int64\n",
      "dtypes: int64(2)\n",
      "memory usage: 781.3 KB\n",
      "None\n",
      "      Id  Cover_Type\n",
      "0  65121           2\n",
      "1  65122           2\n",
      "2  65123           2\n",
      "3  65124           2\n",
      "4  65125           2\n"
     ]
    }
   ],
   "source": [
    "test_2['Cover_Type'] = pd.DataFrame(knn.predict(X_test_2))\n",
    "test_2_sol = test_2[['Id','Cover_Type']]\n",
    "print(test_2_sol.info())\n",
    "print(test_2_sol.head())"
   ]
  },
  {
   "cell_type": "code",
   "execution_count": 18,
   "metadata": {},
   "outputs": [
    {
     "name": "stdout",
     "output_type": "stream",
     "text": [
      "<class 'pandas.core.frame.DataFrame'>\n",
      "RangeIndex: 50000 entries, 0 to 49999\n",
      "Data columns (total 2 columns):\n",
      "Id            50000 non-null int64\n",
      "Cover_Type    50000 non-null int64\n",
      "dtypes: int64(2)\n",
      "memory usage: 781.3 KB\n",
      "None\n",
      "       Id  Cover_Type\n",
      "0  115121           1\n",
      "1  115122           2\n",
      "2  115123           2\n",
      "3  115124           2\n",
      "4  115125           2\n"
     ]
    }
   ],
   "source": [
    "test_3['Cover_Type'] = pd.DataFrame(knn.predict(X_test_3))\n",
    "test_3_sol = test_3[['Id','Cover_Type']]\n",
    "print(test_3_sol.info())\n",
    "print(test_3_sol.head())"
   ]
  },
  {
   "cell_type": "code",
   "execution_count": 19,
   "metadata": {},
   "outputs": [
    {
     "name": "stdout",
     "output_type": "stream",
     "text": [
      "<class 'pandas.core.frame.DataFrame'>\n",
      "RangeIndex: 50000 entries, 0 to 49999\n",
      "Data columns (total 2 columns):\n",
      "Id            50000 non-null int64\n",
      "Cover_Type    50000 non-null int64\n",
      "dtypes: int64(2)\n",
      "memory usage: 781.3 KB\n",
      "None\n",
      "       Id  Cover_Type\n",
      "0  165121           1\n",
      "1  165122           1\n",
      "2  165123           1\n",
      "3  165124           1\n",
      "4  165125           1\n"
     ]
    }
   ],
   "source": [
    "test_4['Cover_Type'] = pd.DataFrame(knn.predict(X_test_4))\n",
    "test_4_sol = test_4[['Id','Cover_Type']]\n",
    "print(test_4_sol.info())\n",
    "print(test_4_sol.head())"
   ]
  },
  {
   "cell_type": "code",
   "execution_count": 20,
   "metadata": {},
   "outputs": [
    {
     "name": "stdout",
     "output_type": "stream",
     "text": [
      "<class 'pandas.core.frame.DataFrame'>\n",
      "RangeIndex: 50000 entries, 0 to 49999\n",
      "Data columns (total 2 columns):\n",
      "Id            50000 non-null int64\n",
      "Cover_Type    50000 non-null int64\n",
      "dtypes: int64(2)\n",
      "memory usage: 781.3 KB\n",
      "None\n",
      "       Id  Cover_Type\n",
      "0  215121           5\n",
      "1  215122           5\n",
      "2  215123           5\n",
      "3  215124           5\n",
      "4  215125           5\n"
     ]
    }
   ],
   "source": [
    "test_5['Cover_Type'] = pd.DataFrame(knn.predict(X_test_5))\n",
    "test_5_sol = test_5[['Id','Cover_Type']]\n",
    "print(test_5_sol.info())\n",
    "print(test_5_sol.head())"
   ]
  },
  {
   "cell_type": "code",
   "execution_count": 21,
   "metadata": {},
   "outputs": [
    {
     "name": "stdout",
     "output_type": "stream",
     "text": [
      "<class 'pandas.core.frame.DataFrame'>\n",
      "RangeIndex: 50000 entries, 0 to 49999\n",
      "Data columns (total 2 columns):\n",
      "Id            50000 non-null int64\n",
      "Cover_Type    50000 non-null int64\n",
      "dtypes: int64(2)\n",
      "memory usage: 781.3 KB\n",
      "None\n",
      "       Id  Cover_Type\n",
      "0  265121           1\n",
      "1  265122           1\n",
      "2  265123           1\n",
      "3  265124           1\n",
      "4  265125           1\n"
     ]
    }
   ],
   "source": [
    "test_6['Cover_Type'] = pd.DataFrame(knn.predict(X_test_6))\n",
    "test_6_sol = test_6[['Id','Cover_Type']]\n",
    "print(test_6_sol.info())\n",
    "print(test_6_sol.head())"
   ]
  },
  {
   "cell_type": "code",
   "execution_count": 22,
   "metadata": {},
   "outputs": [
    {
     "name": "stdout",
     "output_type": "stream",
     "text": [
      "<class 'pandas.core.frame.DataFrame'>\n",
      "RangeIndex: 50000 entries, 0 to 49999\n",
      "Data columns (total 2 columns):\n",
      "Id            50000 non-null int64\n",
      "Cover_Type    50000 non-null int64\n",
      "dtypes: int64(2)\n",
      "memory usage: 781.3 KB\n",
      "None\n",
      "       Id  Cover_Type\n",
      "0  315121           2\n",
      "1  315122           1\n",
      "2  315123           1\n",
      "3  315124           2\n",
      "4  315125           2\n"
     ]
    }
   ],
   "source": [
    "test_7['Cover_Type'] = pd.DataFrame(knn.predict(X_test_7))\n",
    "test_7_sol = test_7[['Id','Cover_Type']]\n",
    "print(test_7_sol.info())\n",
    "print(test_7_sol.head())"
   ]
  },
  {
   "cell_type": "code",
   "execution_count": 23,
   "metadata": {},
   "outputs": [
    {
     "name": "stdout",
     "output_type": "stream",
     "text": [
      "<class 'pandas.core.frame.DataFrame'>\n",
      "RangeIndex: 50000 entries, 0 to 49999\n",
      "Data columns (total 2 columns):\n",
      "Id            50000 non-null int64\n",
      "Cover_Type    50000 non-null int64\n",
      "dtypes: int64(2)\n",
      "memory usage: 781.3 KB\n",
      "None\n",
      "       Id  Cover_Type\n",
      "0  365121           7\n",
      "1  365122           7\n",
      "2  365123           7\n",
      "3  365124           7\n",
      "4  365125           7\n"
     ]
    }
   ],
   "source": [
    "test_8['Cover_Type'] = pd.DataFrame(knn.predict(X_test_8))\n",
    "test_8_sol = test_8[['Id','Cover_Type']]\n",
    "print(test_8_sol.info())\n",
    "print(test_8_sol.head())"
   ]
  },
  {
   "cell_type": "code",
   "execution_count": 24,
   "metadata": {},
   "outputs": [
    {
     "name": "stdout",
     "output_type": "stream",
     "text": [
      "<class 'pandas.core.frame.DataFrame'>\n",
      "RangeIndex: 50000 entries, 0 to 49999\n",
      "Data columns (total 2 columns):\n",
      "Id            50000 non-null int64\n",
      "Cover_Type    50000 non-null int64\n",
      "dtypes: int64(2)\n",
      "memory usage: 781.3 KB\n",
      "None\n",
      "       Id  Cover_Type\n",
      "0  415121           1\n",
      "1  415122           1\n",
      "2  415123           1\n",
      "3  415124           1\n",
      "4  415125           1\n"
     ]
    }
   ],
   "source": [
    "test_9['Cover_Type'] = pd.DataFrame(knn.predict(X_test_9))\n",
    "test_9_sol = test_9[['Id','Cover_Type']]\n",
    "print(test_9_sol.info())\n",
    "print(test_9_sol.head())"
   ]
  },
  {
   "cell_type": "code",
   "execution_count": 25,
   "metadata": {},
   "outputs": [
    {
     "name": "stdout",
     "output_type": "stream",
     "text": [
      "<class 'pandas.core.frame.DataFrame'>\n",
      "RangeIndex: 50000 entries, 0 to 49999\n",
      "Data columns (total 2 columns):\n",
      "Id            50000 non-null int64\n",
      "Cover_Type    50000 non-null int64\n",
      "dtypes: int64(2)\n",
      "memory usage: 781.3 KB\n",
      "None\n",
      "       Id  Cover_Type\n",
      "0  465121           7\n",
      "1  465122           7\n",
      "2  465123           7\n",
      "3  465124           7\n",
      "4  465125           7\n"
     ]
    }
   ],
   "source": [
    "test_10['Cover_Type'] = pd.DataFrame(knn.predict(X_test_10))\n",
    "test_10_sol = test_10[['Id','Cover_Type']]\n",
    "print(test_10_sol.info())\n",
    "print(test_10_sol.head())"
   ]
  },
  {
   "cell_type": "code",
   "execution_count": 26,
   "metadata": {},
   "outputs": [
    {
     "name": "stdout",
     "output_type": "stream",
     "text": [
      "<class 'pandas.core.frame.DataFrame'>\n",
      "RangeIndex: 50000 entries, 0 to 49999\n",
      "Data columns (total 2 columns):\n",
      "Id            50000 non-null int64\n",
      "Cover_Type    50000 non-null int64\n",
      "dtypes: int64(2)\n",
      "memory usage: 781.3 KB\n",
      "None\n",
      "       Id  Cover_Type\n",
      "0  515121           1\n",
      "1  515122           2\n",
      "2  515123           2\n",
      "3  515124           2\n",
      "4  515125           1\n"
     ]
    }
   ],
   "source": [
    "test_11['Cover_Type'] = pd.DataFrame(knn.predict(X_test_11))\n",
    "test_11_sol = test_11[['Id','Cover_Type']]\n",
    "print(test_11_sol.info())\n",
    "print(test_11_sol.head())"
   ]
  },
  {
   "cell_type": "code",
   "execution_count": 27,
   "metadata": {},
   "outputs": [
    {
     "name": "stdout",
     "output_type": "stream",
     "text": [
      "<class 'pandas.core.frame.DataFrame'>\n",
      "RangeIndex: 15892 entries, 0 to 15891\n",
      "Data columns (total 2 columns):\n",
      "Id            15892 non-null int64\n",
      "Cover_Type    15892 non-null int64\n",
      "dtypes: int64(2)\n",
      "memory usage: 248.4 KB\n",
      "None\n",
      "       Id  Cover_Type\n",
      "0  565121           3\n",
      "1  565122           3\n",
      "2  565123           6\n",
      "3  565124           6\n",
      "4  565125           6\n"
     ]
    }
   ],
   "source": [
    "test_12['Cover_Type'] = pd.DataFrame(knn.predict(X_test_12))\n",
    "test_12_sol = test_12[['Id','Cover_Type']]\n",
    "print(test_12_sol.info())\n",
    "print(test_12_sol.head())"
   ]
  },
  {
   "cell_type": "code",
   "execution_count": 28,
   "metadata": {
    "collapsed": true
   },
   "outputs": [],
   "source": [
    "test_concat = pd.concat([test_1_sol,test_2_sol,test_3_sol,test_4_sol,test_5_sol,test_6_sol,test_7_sol,test_8_sol,test_9_sol,test_10_sol,test_11_sol,test_12_sol], ignore_index=True)"
   ]
  },
  {
   "cell_type": "code",
   "execution_count": 29,
   "metadata": {},
   "outputs": [
    {
     "name": "stdout",
     "output_type": "stream",
     "text": [
      "<class 'pandas.core.frame.DataFrame'>\n",
      "RangeIndex: 565892 entries, 0 to 565891\n",
      "Data columns (total 2 columns):\n",
      "Id            565892 non-null int64\n",
      "Cover_Type    565892 non-null int64\n",
      "dtypes: int64(2)\n",
      "memory usage: 8.6 MB\n",
      "None\n"
     ]
    }
   ],
   "source": [
    "print(test_concat.info())"
   ]
  },
  {
   "cell_type": "code",
   "execution_count": 31,
   "metadata": {},
   "outputs": [
    {
     "name": "stdout",
     "output_type": "stream",
     "text": [
      "2    196781\n",
      "1    194902\n",
      "5     53169\n",
      "7     48566\n",
      "3     41389\n",
      "6     26871\n",
      "4      4214\n",
      "Name: Cover_Type, dtype: int64\n"
     ]
    }
   ],
   "source": [
    "print(test_concat['Cover_Type'].value_counts())"
   ]
  },
  {
   "cell_type": "code",
   "execution_count": 32,
   "metadata": {
    "collapsed": true
   },
   "outputs": [],
   "source": [
    "test_concat.to_csv('forest_covers.csv', index = False)"
   ]
  }
 ],
 "metadata": {
  "kernelspec": {
   "display_name": "Python 3",
   "language": "python",
   "name": "python3"
  },
  "language_info": {
   "codemirror_mode": {
    "name": "ipython",
    "version": 3
   },
   "file_extension": ".py",
   "mimetype": "text/x-python",
   "name": "python",
   "nbconvert_exporter": "python",
   "pygments_lexer": "ipython3",
   "version": "3.6.1"
  }
 },
 "nbformat": 4,
 "nbformat_minor": 2
}
